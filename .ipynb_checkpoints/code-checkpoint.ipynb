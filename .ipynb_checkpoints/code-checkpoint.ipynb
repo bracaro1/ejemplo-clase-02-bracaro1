{
 "cells": [
  {
   "cell_type": "code",
   "execution_count": null,
   "id": "initial_id",
   "metadata": {
    "ExecuteTime": {
     "end_time": "2024-04-18T01:33:47.786655Z",
     "start_time": "2024-04-18T01:30:52.603106Z"
    }
   },
   "outputs": [],
   "source": [
    "!pip install spacy\n",
    "!python -m spacy download es_core_news_sm\n",
    "import spacy"
   ]
  },
  {
   "cell_type": "code",
   "execution_count": null,
   "id": "2cc29ac6b31b7c22",
   "metadata": {
    "ExecuteTime": {
     "end_time": "2024-04-18T01:34:25.691744Z",
     "start_time": "2024-04-18T01:34:23.263505Z"
    }
   },
   "outputs": [],
   "source": [
    "nlp = spacy.load(\"es_core_news_sm\")"
   ]
  },
  {
   "cell_type": "code",
   "execution_count": null,
   "id": "130ebc80179d4e6e",
   "metadata": {
    "ExecuteTime": {
     "end_time": "2024-04-18T01:34:30.593101Z",
     "start_time": "2024-04-18T01:34:29.631659Z"
    }
   },
   "outputs": [],
   "source": [
    "a = open('discurso.txt','r', encoding='utf-8')\n",
    "texto = a.read()\n",
    "b = nlp(texto)"
   ]
  },
  {
   "cell_type": "code",
   "execution_count": null,
   "id": "f51cb864ab9a9df6",
   "metadata": {
    "ExecuteTime": {
     "end_time": "2024-04-18T01:34:33.684124Z",
     "start_time": "2024-04-18T01:34:33.657162Z"
    }
   },
   "outputs": [],
   "source": [
    "#oraciones\n",
    "for oraciones in b.sents:\n",
    "\tprint(f' ')\n",
    "\tprint(f' {oraciones}')"
   ]
  },
  {
   "cell_type": "code",
   "execution_count": null,
   "id": "a58df37a638cfdba",
   "metadata": {},
   "outputs": [],
   "source": [
    "for oraciones in b.sents:\n",
    "    print (str(len.oraciones),\"\\n\")"
   ]
  },
  {
   "cell_type": "code",
   "execution_count": null,
   "id": "3a3322ac-0606-48c4-bb79-41397acd528a",
   "metadata": {},
   "outputs": [],
   "source": []
  }
 ],
 "metadata": {
  "kernelspec": {
   "display_name": "Python 3 (ipykernel)",
   "language": "python",
   "name": "python3"
  },
  "language_info": {
   "codemirror_mode": {
    "name": "ipython",
    "version": 3
   },
   "file_extension": ".py",
   "mimetype": "text/x-python",
   "name": "python",
   "nbconvert_exporter": "python",
   "pygments_lexer": "ipython3",
   "version": "3.12.3"
  }
 },
 "nbformat": 4,
 "nbformat_minor": 5
}
